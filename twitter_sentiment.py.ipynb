{
 "cells": [
  {
   "cell_type": "code",
   "execution_count": 1,
   "id": "a0b9757d-67dd-4699-86e4-7a568fa94735",
   "metadata": {},
   "outputs": [
    {
     "name": "stdout",
     "output_type": "stream",
     "text": [
      "Requirement already satisfied: kaggle in c:\\users\\komal\\anaconda3\\lib\\site-packages (1.6.17)\n",
      "Requirement already satisfied: six>=1.10 in c:\\users\\komal\\anaconda3\\lib\\site-packages (from kaggle) (1.16.0)\n",
      "Requirement already satisfied: certifi>=2023.7.22 in c:\\users\\komal\\anaconda3\\lib\\site-packages (from kaggle) (2024.8.30)\n",
      "Requirement already satisfied: python-dateutil in c:\\users\\komal\\anaconda3\\lib\\site-packages (from kaggle) (2.9.0.post0)\n",
      "Requirement already satisfied: requests in c:\\users\\komal\\anaconda3\\lib\\site-packages (from kaggle) (2.32.3)\n",
      "Requirement already satisfied: tqdm in c:\\users\\komal\\anaconda3\\lib\\site-packages (from kaggle) (4.66.5)\n",
      "Requirement already satisfied: python-slugify in c:\\users\\komal\\anaconda3\\lib\\site-packages (from kaggle) (5.0.2)\n",
      "Requirement already satisfied: urllib3 in c:\\users\\komal\\anaconda3\\lib\\site-packages (from kaggle) (2.2.3)\n",
      "Requirement already satisfied: bleach in c:\\users\\komal\\anaconda3\\lib\\site-packages (from kaggle) (4.1.0)\n",
      "Requirement already satisfied: packaging in c:\\users\\komal\\anaconda3\\lib\\site-packages (from bleach->kaggle) (24.1)\n",
      "Requirement already satisfied: webencodings in c:\\users\\komal\\anaconda3\\lib\\site-packages (from bleach->kaggle) (0.5.1)\n",
      "Requirement already satisfied: text-unidecode>=1.3 in c:\\users\\komal\\anaconda3\\lib\\site-packages (from python-slugify->kaggle) (1.3)\n",
      "Requirement already satisfied: charset-normalizer<4,>=2 in c:\\users\\komal\\anaconda3\\lib\\site-packages (from requests->kaggle) (3.3.2)\n",
      "Requirement already satisfied: idna<4,>=2.5 in c:\\users\\komal\\anaconda3\\lib\\site-packages (from requests->kaggle) (3.7)\n",
      "Requirement already satisfied: colorama in c:\\users\\komal\\anaconda3\\lib\\site-packages (from tqdm->kaggle) (0.4.6)\n"
     ]
    }
   ],
   "source": [
    "!pip install kaggle\n"
   ]
  },
  {
   "cell_type": "code",
   "execution_count": 3,
   "id": "dbbe51b4-9330-443c-b607-b3d87aaf9189",
   "metadata": {},
   "outputs": [],
   "source": [
    "import os\n",
    "\n",
    "# Create Kaggle directory\n",
    "os.makedirs(os.path.expanduser('~/.kaggle'), exist_ok=True)\n",
    "\n",
    "# Save kaggle.json file (Paste your JSON content here)\n",
    "kaggle_json = '''{\n",
    "    \"username\": \"your_kaggle_username\",\n",
    "    \"key\": \"your_kaggle_key\"\n",
    "}'''\n",
    "with open(os.path.expanduser('~/.kaggle/kaggle.json'), 'w') as file:\n",
    "    file.write(kaggle_json)\n",
    "\n",
    "# Set appropriate permissions\n",
    "os.chmod(os.path.expanduser('~/.kaggle/kaggle.json'), 0o600)\n"
   ]
  },
  {
   "cell_type": "code",
   "execution_count": 5,
   "id": "b7bc0695-ffb3-4ec0-92c8-b1d499a68275",
   "metadata": {},
   "outputs": [
    {
     "name": "stdout",
     "output_type": "stream",
     "text": [
      "Dataset URL: https://www.kaggle.com/datasets/kazanova/sentiment140\n",
      "License(s): other\n",
      "sentiment140.zip: Skipping, found more recently modified local copy (use --force to force download)\n"
     ]
    }
   ],
   "source": [
    "!kaggle datasets download -d kazanova/sentiment140\n"
   ]
  },
  {
   "cell_type": "code",
   "execution_count": 7,
   "id": "d971af95-5276-41dd-ab99-194eb8be87db",
   "metadata": {},
   "outputs": [
    {
     "name": "stdout",
     "output_type": "stream",
     "text": [
      "Dataset extracted successfully!\n"
     ]
    }
   ],
   "source": [
    "from zipfile import ZipFile\n",
    "\n",
    "dataset = \"sentiment140.zip\"  # Replace with your downloaded dataset file name\n",
    "with ZipFile(dataset, 'r') as zip_ref:\n",
    "    zip_ref.extractall(\"sentiment140\")  # Specify the output folder if needed\n",
    "    print(\"Dataset extracted successfully!\")\n"
   ]
  },
  {
   "cell_type": "code",
   "execution_count": 9,
   "id": "3041dddd-6d95-468a-be70-8edca0b15c34",
   "metadata": {},
   "outputs": [
    {
     "data": {
      "text/plain": [
       "['.ipynb_checkpoints', 'training.1600000.processed.noemoticon.csv']"
      ]
     },
     "execution_count": 9,
     "metadata": {},
     "output_type": "execute_result"
    }
   ],
   "source": [
    "import os\n",
    "os.listdir(\"sentiment140\")  # Replace with your output folder name\n",
    "\n"
   ]
  },
  {
   "cell_type": "code",
   "execution_count": 11,
   "id": "8a2bec89-a013-4e7c-81a7-d9667f12b035",
   "metadata": {},
   "outputs": [],
   "source": [
    "import numpy as np\n",
    "import pandas as pd\n",
    "import re\n",
    "from nltk.corpus import stopwords\n",
    "from nltk.stem.porter import PorterStemmer\n",
    "from sklearn.feature_extraction.text import TfidfVectorizer\n",
    "from sklearn.model_selection import train_test_split\n",
    "from sklearn.metrics import accuracy_score\n"
   ]
  },
  {
   "cell_type": "code",
   "execution_count": 13,
   "id": "a522aabc-933c-4b69-8498-13923a036700",
   "metadata": {},
   "outputs": [
    {
     "name": "stderr",
     "output_type": "stream",
     "text": [
      "[nltk_data] Downloading package stopwords to\n",
      "[nltk_data]     C:\\Users\\Komal\\AppData\\Roaming\\nltk_data...\n",
      "[nltk_data]   Package stopwords is already up-to-date!\n"
     ]
    },
    {
     "data": {
      "text/plain": [
       "True"
      ]
     },
     "execution_count": 13,
     "metadata": {},
     "output_type": "execute_result"
    }
   ],
   "source": [
    "import nltk\n",
    "nltk.download('stopwords')"
   ]
  },
  {
   "cell_type": "code",
   "execution_count": 15,
   "id": "78c1d6ad-a021-406d-b35d-1c23d227c2fd",
   "metadata": {},
   "outputs": [],
   "source": [
    "# print(stopwords.words('english'))\n",
    "from nltk.corpus import stopwords\n",
    "stop_words = list(stopwords.words('english'))"
   ]
  },
  {
   "cell_type": "markdown",
   "id": "b957da18-6981-47b8-8748-172c7bee51b9",
   "metadata": {},
   "source": [
    "load the data from csv to pandas dataframe"
   ]
  },
  {
   "cell_type": "code",
   "execution_count": 79,
   "id": "bbd37748-ae96-4f87-898a-8d801f8cd231",
   "metadata": {},
   "outputs": [
    {
     "data": {
      "text/html": [
       "<div>\n",
       "<style scoped>\n",
       "    .dataframe tbody tr th:only-of-type {\n",
       "        vertical-align: middle;\n",
       "    }\n",
       "\n",
       "    .dataframe tbody tr th {\n",
       "        vertical-align: top;\n",
       "    }\n",
       "\n",
       "    .dataframe thead th {\n",
       "        text-align: right;\n",
       "    }\n",
       "</style>\n",
       "<table border=\"1\" class=\"dataframe\">\n",
       "  <thead>\n",
       "    <tr style=\"text-align: right;\">\n",
       "      <th></th>\n",
       "      <th>0</th>\n",
       "      <th>1467810369</th>\n",
       "      <th>Mon Apr 06 22:19:45 PDT 2009</th>\n",
       "      <th>NO_QUERY</th>\n",
       "      <th>_TheSpecialOne_</th>\n",
       "      <th>@switchfoot http://twitpic.com/2y1zl - Awww, that's a bummer.  You shoulda got David Carr of Third Day to do it. ;D</th>\n",
       "    </tr>\n",
       "  </thead>\n",
       "  <tbody>\n",
       "    <tr>\n",
       "      <th>541200</th>\n",
       "      <td>0</td>\n",
       "      <td>2200003313</td>\n",
       "      <td>Tue Jun 16 18:18:13 PDT 2009</td>\n",
       "      <td>NO_QUERY</td>\n",
       "      <td>DEWGetMeTho77</td>\n",
       "      <td>@Nkluvr4eva My poor little dumpling  In Holmde...</td>\n",
       "    </tr>\n",
       "    <tr>\n",
       "      <th>750</th>\n",
       "      <td>0</td>\n",
       "      <td>1467998601</td>\n",
       "      <td>Mon Apr 06 23:11:18 PDT 2009</td>\n",
       "      <td>NO_QUERY</td>\n",
       "      <td>Young_J</td>\n",
       "      <td>I'm off too bed. I gotta wake up hella early t...</td>\n",
       "    </tr>\n",
       "    <tr>\n",
       "      <th>766711</th>\n",
       "      <td>0</td>\n",
       "      <td>2300049112</td>\n",
       "      <td>Tue Jun 23 13:40:12 PDT 2009</td>\n",
       "      <td>NO_QUERY</td>\n",
       "      <td>dougnawoschik</td>\n",
       "      <td>I havent been able to listen to it yet  My spe...</td>\n",
       "    </tr>\n",
       "    <tr>\n",
       "      <th>285055</th>\n",
       "      <td>0</td>\n",
       "      <td>1993474319</td>\n",
       "      <td>Mon Jun 01 10:26:09 PDT 2009</td>\n",
       "      <td>NO_QUERY</td>\n",
       "      <td>thireven</td>\n",
       "      <td>now remembers why solving a relatively big equ...</td>\n",
       "    </tr>\n",
       "    <tr>\n",
       "      <th>705995</th>\n",
       "      <td>0</td>\n",
       "      <td>2256551006</td>\n",
       "      <td>Sat Jun 20 12:56:51 PDT 2009</td>\n",
       "      <td>NO_QUERY</td>\n",
       "      <td>taracollins086</td>\n",
       "      <td>Ate too much, feel sick</td>\n",
       "    </tr>\n",
       "    <tr>\n",
       "      <th>...</th>\n",
       "      <td>...</td>\n",
       "      <td>...</td>\n",
       "      <td>...</td>\n",
       "      <td>...</td>\n",
       "      <td>...</td>\n",
       "      <td>...</td>\n",
       "    </tr>\n",
       "    <tr>\n",
       "      <th>965972</th>\n",
       "      <td>4</td>\n",
       "      <td>1827657114</td>\n",
       "      <td>Sun May 17 11:10:20 PDT 2009</td>\n",
       "      <td>NO_QUERY</td>\n",
       "      <td>Jaydeeman2009</td>\n",
       "      <td>@keisha_buchanan lol are u talking TV as in sc...</td>\n",
       "    </tr>\n",
       "    <tr>\n",
       "      <th>1193435</th>\n",
       "      <td>4</td>\n",
       "      <td>1984262616</td>\n",
       "      <td>Sun May 31 14:45:44 PDT 2009</td>\n",
       "      <td>NO_QUERY</td>\n",
       "      <td>dauria</td>\n",
       "      <td>@addieking you are SO welcome</td>\n",
       "    </tr>\n",
       "    <tr>\n",
       "      <th>896390</th>\n",
       "      <td>4</td>\n",
       "      <td>1693023092</td>\n",
       "      <td>Sun May 03 21:21:46 PDT 2009</td>\n",
       "      <td>NO_QUERY</td>\n",
       "      <td>efflovexo</td>\n",
       "      <td>is snugglin with her little girl .. had a busy...</td>\n",
       "    </tr>\n",
       "    <tr>\n",
       "      <th>544127</th>\n",
       "      <td>0</td>\n",
       "      <td>2201006002</td>\n",
       "      <td>Tue Jun 16 19:40:29 PDT 2009</td>\n",
       "      <td>NO_QUERY</td>\n",
       "      <td>aNii_lovee</td>\n",
       "      <td>@ladygagafan1 sad because I do not have the ne...</td>\n",
       "    </tr>\n",
       "    <tr>\n",
       "      <th>117202</th>\n",
       "      <td>0</td>\n",
       "      <td>1827596529</td>\n",
       "      <td>Sun May 17 11:02:43 PDT 2009</td>\n",
       "      <td>NO_QUERY</td>\n",
       "      <td>tonesa</td>\n",
       "      <td>@staceysterling i'm just sayin... he seemed up...</td>\n",
       "    </tr>\n",
       "  </tbody>\n",
       "</table>\n",
       "<p>10000 rows × 6 columns</p>\n",
       "</div>"
      ],
      "text/plain": [
       "         0  1467810369  Mon Apr 06 22:19:45 PDT 2009  NO_QUERY  \\\n",
       "541200   0  2200003313  Tue Jun 16 18:18:13 PDT 2009  NO_QUERY   \n",
       "750      0  1467998601  Mon Apr 06 23:11:18 PDT 2009  NO_QUERY   \n",
       "766711   0  2300049112  Tue Jun 23 13:40:12 PDT 2009  NO_QUERY   \n",
       "285055   0  1993474319  Mon Jun 01 10:26:09 PDT 2009  NO_QUERY   \n",
       "705995   0  2256551006  Sat Jun 20 12:56:51 PDT 2009  NO_QUERY   \n",
       "...     ..         ...                           ...       ...   \n",
       "965972   4  1827657114  Sun May 17 11:10:20 PDT 2009  NO_QUERY   \n",
       "1193435  4  1984262616  Sun May 31 14:45:44 PDT 2009  NO_QUERY   \n",
       "896390   4  1693023092  Sun May 03 21:21:46 PDT 2009  NO_QUERY   \n",
       "544127   0  2201006002  Tue Jun 16 19:40:29 PDT 2009  NO_QUERY   \n",
       "117202   0  1827596529  Sun May 17 11:02:43 PDT 2009  NO_QUERY   \n",
       "\n",
       "        _TheSpecialOne_  \\\n",
       "541200    DEWGetMeTho77   \n",
       "750             Young_J   \n",
       "766711    dougnawoschik   \n",
       "285055         thireven   \n",
       "705995   taracollins086   \n",
       "...                 ...   \n",
       "965972    Jaydeeman2009   \n",
       "1193435          dauria   \n",
       "896390        efflovexo   \n",
       "544127       aNii_lovee   \n",
       "117202           tonesa   \n",
       "\n",
       "        @switchfoot http://twitpic.com/2y1zl - Awww, that's a bummer.  You shoulda got David Carr of Third Day to do it. ;D  \n",
       "541200   @Nkluvr4eva My poor little dumpling  In Holmde...                                                                   \n",
       "750      I'm off too bed. I gotta wake up hella early t...                                                                   \n",
       "766711   I havent been able to listen to it yet  My spe...                                                                   \n",
       "285055   now remembers why solving a relatively big equ...                                                                   \n",
       "705995                            Ate too much, feel sick                                                                    \n",
       "...                                                    ...                                                                   \n",
       "965972   @keisha_buchanan lol are u talking TV as in sc...                                                                   \n",
       "1193435                     @addieking you are SO welcome                                                                    \n",
       "896390   is snugglin with her little girl .. had a busy...                                                                   \n",
       "544127   @ladygagafan1 sad because I do not have the ne...                                                                   \n",
       "117202   @staceysterling i'm just sayin... he seemed up...                                                                   \n",
       "\n",
       "[10000 rows x 6 columns]"
      ]
     },
     "execution_count": 79,
     "metadata": {},
     "output_type": "execute_result"
    }
   ],
   "source": [
    "import pandas as pd\n",
    "df1=pd.read_csv('data.csv',encoding='ISO-8859-1')\n",
    "df=df1.sample(n=10000,random_state=42)\n",
    "df"
   ]
  },
  {
   "cell_type": "markdown",
   "id": "386e8bb9-a49c-40c2-b9f5-62ab490c3055",
   "metadata": {},
   "source": [
    "checking no of rows and columns"
   ]
  },
  {
   "cell_type": "code",
   "execution_count": 57,
   "id": "7468977c-3165-4b75-bae4-8dffc5bcb0c9",
   "metadata": {},
   "outputs": [
    {
     "data": {
      "text/plain": [
       "(10000, 6)"
      ]
     },
     "execution_count": 57,
     "metadata": {},
     "output_type": "execute_result"
    }
   ],
   "source": [
    "df.shape"
   ]
  },
  {
   "cell_type": "code",
   "execution_count": 59,
   "id": "9dff7f7d-5e55-4802-89f3-1102a2d88db5",
   "metadata": {},
   "outputs": [
    {
     "data": {
      "text/plain": [
       "60000"
      ]
     },
     "execution_count": 59,
     "metadata": {},
     "output_type": "execute_result"
    }
   ],
   "source": [
    "df.size"
   ]
  },
  {
   "cell_type": "code",
   "execution_count": 61,
   "id": "7c92d9bc-3fce-442e-b22e-9a8112b7247e",
   "metadata": {},
   "outputs": [
    {
     "data": {
      "text/html": [
       "<div>\n",
       "<style scoped>\n",
       "    .dataframe tbody tr th:only-of-type {\n",
       "        vertical-align: middle;\n",
       "    }\n",
       "\n",
       "    .dataframe tbody tr th {\n",
       "        vertical-align: top;\n",
       "    }\n",
       "\n",
       "    .dataframe thead th {\n",
       "        text-align: right;\n",
       "    }\n",
       "</style>\n",
       "<table border=\"1\" class=\"dataframe\">\n",
       "  <thead>\n",
       "    <tr style=\"text-align: right;\">\n",
       "      <th></th>\n",
       "      <th>0</th>\n",
       "      <th>1467810369</th>\n",
       "      <th>Mon Apr 06 22:19:45 PDT 2009</th>\n",
       "      <th>NO_QUERY</th>\n",
       "      <th>_TheSpecialOne_</th>\n",
       "      <th>@switchfoot http://twitpic.com/2y1zl - Awww, that's a bummer.  You shoulda got David Carr of Third Day to do it. ;D</th>\n",
       "    </tr>\n",
       "  </thead>\n",
       "  <tbody>\n",
       "    <tr>\n",
       "      <th>541200</th>\n",
       "      <td>0</td>\n",
       "      <td>2200003313</td>\n",
       "      <td>Tue Jun 16 18:18:13 PDT 2009</td>\n",
       "      <td>NO_QUERY</td>\n",
       "      <td>DEWGetMeTho77</td>\n",
       "      <td>@Nkluvr4eva My poor little dumpling  In Holmde...</td>\n",
       "    </tr>\n",
       "    <tr>\n",
       "      <th>750</th>\n",
       "      <td>0</td>\n",
       "      <td>1467998601</td>\n",
       "      <td>Mon Apr 06 23:11:18 PDT 2009</td>\n",
       "      <td>NO_QUERY</td>\n",
       "      <td>Young_J</td>\n",
       "      <td>I'm off too bed. I gotta wake up hella early t...</td>\n",
       "    </tr>\n",
       "    <tr>\n",
       "      <th>766711</th>\n",
       "      <td>0</td>\n",
       "      <td>2300049112</td>\n",
       "      <td>Tue Jun 23 13:40:12 PDT 2009</td>\n",
       "      <td>NO_QUERY</td>\n",
       "      <td>dougnawoschik</td>\n",
       "      <td>I havent been able to listen to it yet  My spe...</td>\n",
       "    </tr>\n",
       "    <tr>\n",
       "      <th>285055</th>\n",
       "      <td>0</td>\n",
       "      <td>1993474319</td>\n",
       "      <td>Mon Jun 01 10:26:09 PDT 2009</td>\n",
       "      <td>NO_QUERY</td>\n",
       "      <td>thireven</td>\n",
       "      <td>now remembers why solving a relatively big equ...</td>\n",
       "    </tr>\n",
       "    <tr>\n",
       "      <th>705995</th>\n",
       "      <td>0</td>\n",
       "      <td>2256551006</td>\n",
       "      <td>Sat Jun 20 12:56:51 PDT 2009</td>\n",
       "      <td>NO_QUERY</td>\n",
       "      <td>taracollins086</td>\n",
       "      <td>Ate too much, feel sick</td>\n",
       "    </tr>\n",
       "  </tbody>\n",
       "</table>\n",
       "</div>"
      ],
      "text/plain": [
       "        0  1467810369  Mon Apr 06 22:19:45 PDT 2009  NO_QUERY _TheSpecialOne_  \\\n",
       "541200  0  2200003313  Tue Jun 16 18:18:13 PDT 2009  NO_QUERY   DEWGetMeTho77   \n",
       "750     0  1467998601  Mon Apr 06 23:11:18 PDT 2009  NO_QUERY         Young_J   \n",
       "766711  0  2300049112  Tue Jun 23 13:40:12 PDT 2009  NO_QUERY   dougnawoschik   \n",
       "285055  0  1993474319  Mon Jun 01 10:26:09 PDT 2009  NO_QUERY        thireven   \n",
       "705995  0  2256551006  Sat Jun 20 12:56:51 PDT 2009  NO_QUERY  taracollins086   \n",
       "\n",
       "       @switchfoot http://twitpic.com/2y1zl - Awww, that's a bummer.  You shoulda got David Carr of Third Day to do it. ;D  \n",
       "541200  @Nkluvr4eva My poor little dumpling  In Holmde...                                                                   \n",
       "750     I'm off too bed. I gotta wake up hella early t...                                                                   \n",
       "766711  I havent been able to listen to it yet  My spe...                                                                   \n",
       "285055  now remembers why solving a relatively big equ...                                                                   \n",
       "705995                           Ate too much, feel sick                                                                    "
      ]
     },
     "execution_count": 61,
     "metadata": {},
     "output_type": "execute_result"
    }
   ],
   "source": [
    "df.head()"
   ]
  },
  {
   "cell_type": "markdown",
   "id": "7b19350e-1b2b-4fc3-aeab-90ab60fb3690",
   "metadata": {},
   "source": [
    "Naming the columns and reading the dataset again"
   ]
  },
  {
   "cell_type": "code",
   "execution_count": 85,
   "id": "c4d728c1-d055-4bd0-a363-160a5b580fa4",
   "metadata": {},
   "outputs": [
    {
     "data": {
      "text/html": [
       "<div>\n",
       "<style scoped>\n",
       "    .dataframe tbody tr th:only-of-type {\n",
       "        vertical-align: middle;\n",
       "    }\n",
       "\n",
       "    .dataframe tbody tr th {\n",
       "        vertical-align: top;\n",
       "    }\n",
       "\n",
       "    .dataframe thead th {\n",
       "        text-align: right;\n",
       "    }\n",
       "</style>\n",
       "<table border=\"1\" class=\"dataframe\">\n",
       "  <thead>\n",
       "    <tr style=\"text-align: right;\">\n",
       "      <th></th>\n",
       "      <th>target</th>\n",
       "      <th>id</th>\n",
       "      <th>date</th>\n",
       "      <th>flag</th>\n",
       "      <th>user</th>\n",
       "      <th>text</th>\n",
       "    </tr>\n",
       "  </thead>\n",
       "  <tbody>\n",
       "    <tr>\n",
       "      <th>541200</th>\n",
       "      <td>0</td>\n",
       "      <td>2200003196</td>\n",
       "      <td>Tue Jun 16 18:18:12 PDT 2009</td>\n",
       "      <td>NO_QUERY</td>\n",
       "      <td>LaLaLindsey0609</td>\n",
       "      <td>@chrishasboobs AHHH I HOPE YOUR OK!!!</td>\n",
       "    </tr>\n",
       "    <tr>\n",
       "      <th>750</th>\n",
       "      <td>0</td>\n",
       "      <td>1467998485</td>\n",
       "      <td>Mon Apr 06 23:11:14 PDT 2009</td>\n",
       "      <td>NO_QUERY</td>\n",
       "      <td>sexygrneyes</td>\n",
       "      <td>@misstoriblack cool , i have no tweet apps  fo...</td>\n",
       "    </tr>\n",
       "    <tr>\n",
       "      <th>766711</th>\n",
       "      <td>0</td>\n",
       "      <td>2300048954</td>\n",
       "      <td>Tue Jun 23 13:40:11 PDT 2009</td>\n",
       "      <td>NO_QUERY</td>\n",
       "      <td>sammydearr</td>\n",
       "      <td>@TiannaChaos i know  just family drama. its la...</td>\n",
       "    </tr>\n",
       "    <tr>\n",
       "      <th>285055</th>\n",
       "      <td>0</td>\n",
       "      <td>1993474027</td>\n",
       "      <td>Mon Jun 01 10:26:07 PDT 2009</td>\n",
       "      <td>NO_QUERY</td>\n",
       "      <td>Lamb_Leanne</td>\n",
       "      <td>School email won't open  and I have geography ...</td>\n",
       "    </tr>\n",
       "    <tr>\n",
       "      <th>705995</th>\n",
       "      <td>0</td>\n",
       "      <td>2256550904</td>\n",
       "      <td>Sat Jun 20 12:56:51 PDT 2009</td>\n",
       "      <td>NO_QUERY</td>\n",
       "      <td>yogicerdito</td>\n",
       "      <td>upper airways problem</td>\n",
       "    </tr>\n",
       "    <tr>\n",
       "      <th>...</th>\n",
       "      <td>...</td>\n",
       "      <td>...</td>\n",
       "      <td>...</td>\n",
       "      <td>...</td>\n",
       "      <td>...</td>\n",
       "      <td>...</td>\n",
       "    </tr>\n",
       "    <tr>\n",
       "      <th>965972</th>\n",
       "      <td>4</td>\n",
       "      <td>1827657080</td>\n",
       "      <td>Sun May 17 11:10:20 PDT 2009</td>\n",
       "      <td>NO_QUERY</td>\n",
       "      <td>Hici96</td>\n",
       "      <td>My sister, Cheyenne's birthday party is today!...</td>\n",
       "    </tr>\n",
       "    <tr>\n",
       "      <th>1193436</th>\n",
       "      <td>4</td>\n",
       "      <td>1984262616</td>\n",
       "      <td>Sun May 31 14:45:44 PDT 2009</td>\n",
       "      <td>NO_QUERY</td>\n",
       "      <td>dauria</td>\n",
       "      <td>@addieking you are SO welcome</td>\n",
       "    </tr>\n",
       "    <tr>\n",
       "      <th>896390</th>\n",
       "      <td>4</td>\n",
       "      <td>1693023020</td>\n",
       "      <td>Sun May 03 21:21:45 PDT 2009</td>\n",
       "      <td>NO_QUERY</td>\n",
       "      <td>evankmathews</td>\n",
       "      <td>@RebekahMaylene seriously!! Those gals were ma...</td>\n",
       "    </tr>\n",
       "    <tr>\n",
       "      <th>544127</th>\n",
       "      <td>0</td>\n",
       "      <td>2201005638</td>\n",
       "      <td>Tue Jun 16 19:40:27 PDT 2009</td>\n",
       "      <td>NO_QUERY</td>\n",
       "      <td>jimbafrosty</td>\n",
       "      <td>@SarahMascara thanks now i want chicken and ch...</td>\n",
       "    </tr>\n",
       "    <tr>\n",
       "      <th>117202</th>\n",
       "      <td>0</td>\n",
       "      <td>1827596172</td>\n",
       "      <td>Sun May 17 11:02:40 PDT 2009</td>\n",
       "      <td>NO_QUERY</td>\n",
       "      <td>lovelylisaj</td>\n",
       "      <td>@kutefans sadly this is probably true. I'm now...</td>\n",
       "    </tr>\n",
       "  </tbody>\n",
       "</table>\n",
       "<p>10000 rows × 6 columns</p>\n",
       "</div>"
      ],
      "text/plain": [
       "         target          id                          date      flag  \\\n",
       "541200        0  2200003196  Tue Jun 16 18:18:12 PDT 2009  NO_QUERY   \n",
       "750           0  1467998485  Mon Apr 06 23:11:14 PDT 2009  NO_QUERY   \n",
       "766711        0  2300048954  Tue Jun 23 13:40:11 PDT 2009  NO_QUERY   \n",
       "285055        0  1993474027  Mon Jun 01 10:26:07 PDT 2009  NO_QUERY   \n",
       "705995        0  2256550904  Sat Jun 20 12:56:51 PDT 2009  NO_QUERY   \n",
       "...         ...         ...                           ...       ...   \n",
       "965972        4  1827657080  Sun May 17 11:10:20 PDT 2009  NO_QUERY   \n",
       "1193436       4  1984262616  Sun May 31 14:45:44 PDT 2009  NO_QUERY   \n",
       "896390        4  1693023020  Sun May 03 21:21:45 PDT 2009  NO_QUERY   \n",
       "544127        0  2201005638  Tue Jun 16 19:40:27 PDT 2009  NO_QUERY   \n",
       "117202        0  1827596172  Sun May 17 11:02:40 PDT 2009  NO_QUERY   \n",
       "\n",
       "                    user                                               text  \n",
       "541200   LaLaLindsey0609             @chrishasboobs AHHH I HOPE YOUR OK!!!   \n",
       "750          sexygrneyes  @misstoriblack cool , i have no tweet apps  fo...  \n",
       "766711        sammydearr  @TiannaChaos i know  just family drama. its la...  \n",
       "285055       Lamb_Leanne  School email won't open  and I have geography ...  \n",
       "705995       yogicerdito                             upper airways problem   \n",
       "...                  ...                                                ...  \n",
       "965972            Hici96  My sister, Cheyenne's birthday party is today!...  \n",
       "1193436           dauria                     @addieking you are SO welcome   \n",
       "896390      evankmathews  @RebekahMaylene seriously!! Those gals were ma...  \n",
       "544127       jimbafrosty  @SarahMascara thanks now i want chicken and ch...  \n",
       "117202       lovelylisaj  @kutefans sadly this is probably true. I'm now...  \n",
       "\n",
       "[10000 rows x 6 columns]"
      ]
     },
     "execution_count": 85,
     "metadata": {},
     "output_type": "execute_result"
    }
   ],
   "source": [
    "column_names=['target','id','date','flag','user','text']\n",
    "df1=pd.read_csv('data.csv',names=column_names,encoding='ISO-8859-1')\n",
    "df=df1.sample(n=10000,random_state=42)\n",
    "df"
   ]
  },
  {
   "cell_type": "code",
   "execution_count": 64,
   "id": "e1381b6a-c83a-492e-8d50-3c17b2834248",
   "metadata": {},
   "outputs": [
    {
     "data": {
      "text/plain": [
       "Index(['target', 'id', 'date', 'flag', 'user', 'text'], dtype='object')"
      ]
     },
     "execution_count": 64,
     "metadata": {},
     "output_type": "execute_result"
    }
   ],
   "source": [
    "df.columns"
   ]
  },
  {
   "cell_type": "code",
   "execution_count": 87,
   "id": "980e621b-f0c7-4a40-b2d9-8cd33872b791",
   "metadata": {},
   "outputs": [
    {
     "data": {
      "text/plain": [
       "(10000, 6)"
      ]
     },
     "execution_count": 87,
     "metadata": {},
     "output_type": "execute_result"
    }
   ],
   "source": [
    "df.shape"
   ]
  },
  {
   "cell_type": "code",
   "execution_count": 89,
   "id": "20eb43ba-b45f-4785-b3a8-4aabec76eff7",
   "metadata": {},
   "outputs": [
    {
     "data": {
      "text/html": [
       "<div>\n",
       "<style scoped>\n",
       "    .dataframe tbody tr th:only-of-type {\n",
       "        vertical-align: middle;\n",
       "    }\n",
       "\n",
       "    .dataframe tbody tr th {\n",
       "        vertical-align: top;\n",
       "    }\n",
       "\n",
       "    .dataframe thead th {\n",
       "        text-align: right;\n",
       "    }\n",
       "</style>\n",
       "<table border=\"1\" class=\"dataframe\">\n",
       "  <thead>\n",
       "    <tr style=\"text-align: right;\">\n",
       "      <th></th>\n",
       "      <th>target</th>\n",
       "      <th>id</th>\n",
       "      <th>date</th>\n",
       "      <th>flag</th>\n",
       "      <th>user</th>\n",
       "      <th>text</th>\n",
       "    </tr>\n",
       "  </thead>\n",
       "  <tbody>\n",
       "    <tr>\n",
       "      <th>541200</th>\n",
       "      <td>0</td>\n",
       "      <td>2200003196</td>\n",
       "      <td>Tue Jun 16 18:18:12 PDT 2009</td>\n",
       "      <td>NO_QUERY</td>\n",
       "      <td>LaLaLindsey0609</td>\n",
       "      <td>@chrishasboobs AHHH I HOPE YOUR OK!!!</td>\n",
       "    </tr>\n",
       "    <tr>\n",
       "      <th>750</th>\n",
       "      <td>0</td>\n",
       "      <td>1467998485</td>\n",
       "      <td>Mon Apr 06 23:11:14 PDT 2009</td>\n",
       "      <td>NO_QUERY</td>\n",
       "      <td>sexygrneyes</td>\n",
       "      <td>@misstoriblack cool , i have no tweet apps  fo...</td>\n",
       "    </tr>\n",
       "    <tr>\n",
       "      <th>766711</th>\n",
       "      <td>0</td>\n",
       "      <td>2300048954</td>\n",
       "      <td>Tue Jun 23 13:40:11 PDT 2009</td>\n",
       "      <td>NO_QUERY</td>\n",
       "      <td>sammydearr</td>\n",
       "      <td>@TiannaChaos i know  just family drama. its la...</td>\n",
       "    </tr>\n",
       "    <tr>\n",
       "      <th>285055</th>\n",
       "      <td>0</td>\n",
       "      <td>1993474027</td>\n",
       "      <td>Mon Jun 01 10:26:07 PDT 2009</td>\n",
       "      <td>NO_QUERY</td>\n",
       "      <td>Lamb_Leanne</td>\n",
       "      <td>School email won't open  and I have geography ...</td>\n",
       "    </tr>\n",
       "    <tr>\n",
       "      <th>705995</th>\n",
       "      <td>0</td>\n",
       "      <td>2256550904</td>\n",
       "      <td>Sat Jun 20 12:56:51 PDT 2009</td>\n",
       "      <td>NO_QUERY</td>\n",
       "      <td>yogicerdito</td>\n",
       "      <td>upper airways problem</td>\n",
       "    </tr>\n",
       "  </tbody>\n",
       "</table>\n",
       "</div>"
      ],
      "text/plain": [
       "        target          id                          date      flag  \\\n",
       "541200       0  2200003196  Tue Jun 16 18:18:12 PDT 2009  NO_QUERY   \n",
       "750          0  1467998485  Mon Apr 06 23:11:14 PDT 2009  NO_QUERY   \n",
       "766711       0  2300048954  Tue Jun 23 13:40:11 PDT 2009  NO_QUERY   \n",
       "285055       0  1993474027  Mon Jun 01 10:26:07 PDT 2009  NO_QUERY   \n",
       "705995       0  2256550904  Sat Jun 20 12:56:51 PDT 2009  NO_QUERY   \n",
       "\n",
       "                   user                                               text  \n",
       "541200  LaLaLindsey0609             @chrishasboobs AHHH I HOPE YOUR OK!!!   \n",
       "750         sexygrneyes  @misstoriblack cool , i have no tweet apps  fo...  \n",
       "766711       sammydearr  @TiannaChaos i know  just family drama. its la...  \n",
       "285055      Lamb_Leanne  School email won't open  and I have geography ...  \n",
       "705995      yogicerdito                             upper airways problem   "
      ]
     },
     "execution_count": 89,
     "metadata": {},
     "output_type": "execute_result"
    }
   ],
   "source": [
    "df.head()"
   ]
  },
  {
   "cell_type": "markdown",
   "id": "3f43b7a1-2441-4cec-8339-2460e13a6f39",
   "metadata": {},
   "source": [
    "Deal with missing values"
   ]
  },
  {
   "cell_type": "code",
   "execution_count": 71,
   "id": "99c7f733-6a43-4df8-ab9c-f74243be019c",
   "metadata": {},
   "outputs": [
    {
     "data": {
      "text/plain": [
       "target    0\n",
       "id        0\n",
       "date      0\n",
       "flag      0\n",
       "user      0\n",
       "text      0\n",
       "dtype: int64"
      ]
     },
     "execution_count": 71,
     "metadata": {},
     "output_type": "execute_result"
    }
   ],
   "source": [
    "df.isnull().sum()"
   ]
  },
  {
   "cell_type": "code",
   "execution_count": 93,
   "id": "fef03c14-fc0c-44d8-97cc-6d4dedaec742",
   "metadata": {},
   "outputs": [
    {
     "data": {
      "text/plain": [
       "target\n",
       "0    5004\n",
       "4    4996\n",
       "Name: count, dtype: int64"
      ]
     },
     "execution_count": 93,
     "metadata": {},
     "output_type": "execute_result"
    }
   ],
   "source": [
    "df['target'].value_counts()"
   ]
  },
  {
   "cell_type": "code",
   "execution_count": 91,
   "id": "266132bc-0c2a-4c1f-83c1-43683892681a",
   "metadata": {},
   "outputs": [
    {
     "data": {
      "text/plain": [
       "array([0, 4], dtype=int64)"
      ]
     },
     "execution_count": 91,
     "metadata": {},
     "output_type": "execute_result"
    }
   ],
   "source": [
    "df['target'].unique()"
   ]
  },
  {
   "cell_type": "markdown",
   "id": "e61a130f-5515-45c5-b477-34cdc6b173e4",
   "metadata": {},
   "source": [
    "0 is for negative and 4 is for positive"
   ]
  },
  {
   "cell_type": "code",
   "execution_count": 131,
   "id": "430bf493-3e7b-4316-80a5-0892d32c8634",
   "metadata": {},
   "outputs": [
    {
     "data": {
      "image/png": "[encoded data removed]",
      "text/plain": [
       "<Figure size 640x480 with 1 Axes>"
      ]
     },
     "metadata": {},
     "output_type": "display_data"
    }
   ],
   "source": [
    "import matplotlib.pyplot as plt\n",
    "counts=df['target'].value_counts()\n",
    "ax=counts.plot.bar(color='brown',label=\"target Distribution\")\n",
    "plt.xlabel('target')\n",
    "plt.ylabel('Counts')\n",
    "plt.title('Graph')\n",
    "ax.bar_label(ax.containers[0])\n",
    "plt.legend()\n",
    "plt.show()"
   ]
  },
  {
   "cell_type": "markdown",
   "id": "03b5155f-a1d7-4259-9f68-2e255b1d05da",
   "metadata": {},
   "source": [
    "convert the target from 4 to 1"
   ]
  },
  {
   "cell_type": "code",
   "execution_count": null,
   "id": "c9cf197e-e257-4915-8312-c84ed4789eb5",
   "metadata": {},
   "outputs": [],
   "source": [
    "df.replace({'target':{4:1}},inplace=True)"
   ]
  },
  {
   "cell_type": "code",
   "execution_count": null,
   "id": "6ef8909c-b3ee-4166-829e-083ed078c5ae",
   "metadata": {},
   "outputs": [],
   "source": [
    "df['target'].value_counts()"
   ]
  },
  {
   "cell_type": "markdown",
   "id": "31ca5677-be31-487f-90ca-33643c86ef05",
   "metadata": {},
   "source": [
    "0:negative tweet \n",
    "1:positive tweets"
   ]
  },
  {
   "cell_type": "code",
   "execution_count": null,
   "id": "5731beba-8137-46f2-ac10-905fda2d485c",
   "metadata": {},
   "outputs": [],
   "source": [
    "port_stem=PorterStemmer()"
   ]
  },
  {
   "cell_type": "code",
   "execution_count": 147,
   "id": "502d3635-221c-48fb-9533-ae1dc3b8621e",
   "metadata": {},
   "outputs": [],
   "source": [
    "def stemming(content):\n",
    "    stemmed_content=re.sub('[^a-zA-Z]',' ',content)\n",
    "    stemmed_content=stemmed_content.lower()\n",
    "    stemmed_content=stemmed_content.split()\n",
    "    stemmed_content=[port_stem.stem(word) for word in stemmed_content if not word in stopwords.words('english')]\n",
    "    stemmed_content=' '.join(stemmed_content)\n",
    "    return stemmed_content"
   ]
  },
  {
   "cell_type": "code",
   "execution_count": 149,
   "id": "bb0a4fca-0816-416c-b215-9a4dba0a5d7b",
   "metadata": {},
   "outputs": [],
   "source": [
    "df['stemmed_content']=df['text'].apply(stemming)"
   ]
  },
  {
   "cell_type": "code",
   "execution_count": 137,
   "id": "2100a8f5-d472-44d0-84b7-d703c0930350",
   "metadata": {},
   "outputs": [],
   "source": [
    "port_stem = PorterStemmer()\n"
   ]
  },
  {
   "cell_type": "code",
   "execution_count": 143,
   "id": "1ced936e-fc99-4d74-80d1-3d2672be23fc",
   "metadata": {},
   "outputs": [
    {
     "name": "stdout",
     "output_type": "stream",
     "text": [
      "Requirement already satisfied: nltk in c:\\users\\komal\\anaconda3\\lib\\site-packages (3.9.1)\n",
      "Requirement already satisfied: click in c:\\users\\komal\\anaconda3\\lib\\site-packages (from nltk) (8.1.7)\n",
      "Requirement already satisfied: joblib in c:\\users\\komal\\anaconda3\\lib\\site-packages (from nltk) (1.4.2)\n",
      "Requirement already satisfied: regex>=2021.8.3 in c:\\users\\komal\\anaconda3\\lib\\site-packages (from nltk) (2024.9.11)\n",
      "Requirement already satisfied: tqdm in c:\\users\\komal\\anaconda3\\lib\\site-packages (from nltk) (4.66.5)\n",
      "Requirement already satisfied: colorama in c:\\users\\komal\\anaconda3\\lib\\site-packages (from click->nltk) (0.4.6)\n",
      "Note: you may need to restart the kernel to use updated packages.\n"
     ]
    }
   ],
   "source": [
    "pip install nltk\n"
   ]
  },
  {
   "cell_type": "code",
   "execution_count": 145,
   "id": "c5088b06-5974-47b6-be18-e38afa7e9ff2",
   "metadata": {},
   "outputs": [],
   "source": [
    "\n",
    "df['text'] = df['text'].fillna('').astype(str)\n"
   ]
  },
  {
   "cell_type": "code",
   "execution_count": 151,
   "id": "b369f0c7-4674-4aaf-8803-5b68eba35c89",
   "metadata": {},
   "outputs": [
    {
     "data": {
      "text/html": [
       "<div>\n",
       "<style scoped>\n",
       "    .dataframe tbody tr th:only-of-type {\n",
       "        vertical-align: middle;\n",
       "    }\n",
       "\n",
       "    .dataframe tbody tr th {\n",
       "        vertical-align: top;\n",
       "    }\n",
       "\n",
       "    .dataframe thead th {\n",
       "        text-align: right;\n",
       "    }\n",
       "</style>\n",
       "<table border=\"1\" class=\"dataframe\">\n",
       "  <thead>\n",
       "    <tr style=\"text-align: right;\">\n",
       "      <th></th>\n",
       "      <th>target</th>\n",
       "      <th>id</th>\n",
       "      <th>date</th>\n",
       "      <th>flag</th>\n",
       "      <th>user</th>\n",
       "      <th>text</th>\n",
       "      <th>stemmed_content</th>\n",
       "    </tr>\n",
       "  </thead>\n",
       "  <tbody>\n",
       "    <tr>\n",
       "      <th>541200</th>\n",
       "      <td>0</td>\n",
       "      <td>2200003196</td>\n",
       "      <td>Tue Jun 16 18:18:12 PDT 2009</td>\n",
       "      <td>NO_QUERY</td>\n",
       "      <td>LaLaLindsey0609</td>\n",
       "      <td>@chrishasboobs AHHH I HOPE YOUR OK!!!</td>\n",
       "      <td>chrishasboob ahhh hope ok</td>\n",
       "    </tr>\n",
       "    <tr>\n",
       "      <th>750</th>\n",
       "      <td>0</td>\n",
       "      <td>1467998485</td>\n",
       "      <td>Mon Apr 06 23:11:14 PDT 2009</td>\n",
       "      <td>NO_QUERY</td>\n",
       "      <td>sexygrneyes</td>\n",
       "      <td>@misstoriblack cool , i have no tweet apps  fo...</td>\n",
       "      <td>misstoriblack cool tweet app razr</td>\n",
       "    </tr>\n",
       "    <tr>\n",
       "      <th>766711</th>\n",
       "      <td>0</td>\n",
       "      <td>2300048954</td>\n",
       "      <td>Tue Jun 23 13:40:11 PDT 2009</td>\n",
       "      <td>NO_QUERY</td>\n",
       "      <td>sammydearr</td>\n",
       "      <td>@TiannaChaos i know  just family drama. its la...</td>\n",
       "      <td>tiannachao know famili drama lame hey next tim...</td>\n",
       "    </tr>\n",
       "    <tr>\n",
       "      <th>285055</th>\n",
       "      <td>0</td>\n",
       "      <td>1993474027</td>\n",
       "      <td>Mon Jun 01 10:26:07 PDT 2009</td>\n",
       "      <td>NO_QUERY</td>\n",
       "      <td>Lamb_Leanne</td>\n",
       "      <td>School email won't open  and I have geography ...</td>\n",
       "      <td>school email open geographi stuff revis stupid...</td>\n",
       "    </tr>\n",
       "    <tr>\n",
       "      <th>705995</th>\n",
       "      <td>0</td>\n",
       "      <td>2256550904</td>\n",
       "      <td>Sat Jun 20 12:56:51 PDT 2009</td>\n",
       "      <td>NO_QUERY</td>\n",
       "      <td>yogicerdito</td>\n",
       "      <td>upper airways problem</td>\n",
       "      <td>upper airway problem</td>\n",
       "    </tr>\n",
       "  </tbody>\n",
       "</table>\n",
       "</div>"
      ],
      "text/plain": [
       "        target          id                          date      flag  \\\n",
       "541200       0  2200003196  Tue Jun 16 18:18:12 PDT 2009  NO_QUERY   \n",
       "750          0  1467998485  Mon Apr 06 23:11:14 PDT 2009  NO_QUERY   \n",
       "766711       0  2300048954  Tue Jun 23 13:40:11 PDT 2009  NO_QUERY   \n",
       "285055       0  1993474027  Mon Jun 01 10:26:07 PDT 2009  NO_QUERY   \n",
       "705995       0  2256550904  Sat Jun 20 12:56:51 PDT 2009  NO_QUERY   \n",
       "\n",
       "                   user                                               text  \\\n",
       "541200  LaLaLindsey0609             @chrishasboobs AHHH I HOPE YOUR OK!!!    \n",
       "750         sexygrneyes  @misstoriblack cool , i have no tweet apps  fo...   \n",
       "766711       sammydearr  @TiannaChaos i know  just family drama. its la...   \n",
       "285055      Lamb_Leanne  School email won't open  and I have geography ...   \n",
       "705995      yogicerdito                             upper airways problem    \n",
       "\n",
       "                                          stemmed_content  \n",
       "541200                          chrishasboob ahhh hope ok  \n",
       "750                     misstoriblack cool tweet app razr  \n",
       "766711  tiannachao know famili drama lame hey next tim...  \n",
       "285055  school email open geographi stuff revis stupid...  \n",
       "705995                               upper airway problem  "
      ]
     },
     "execution_count": 151,
     "metadata": {},
     "output_type": "execute_result"
    }
   ],
   "source": [
    "df.head()"
   ]
  },
  {
   "cell_type": "code",
   "execution_count": 153,
   "id": "f3ca1f14-f1f0-4b0f-a166-a63454935bf6",
   "metadata": {},
   "outputs": [
    {
     "name": "stdout",
     "output_type": "stream",
     "text": [
      "541200                             chrishasboob ahhh hope ok\n",
      "750                        misstoriblack cool tweet app razr\n",
      "766711     tiannachao know famili drama lame hey next tim...\n",
      "285055     school email open geographi stuff revis stupid...\n",
      "705995                                  upper airway problem\n",
      "                                 ...                        \n",
      "965972     sister cheyenn birthday parti today gonna much...\n",
      "1193436                                        addiek welcom\n",
      "896390     rebekahmaylen serious gal make nervou parti th...\n",
      "544127     sarahmascara thank want chicken cheesecak toge...\n",
      "117202     kutefan sadli probabl true tri trident competi...\n",
      "Name: stemmed_content, Length: 10000, dtype: object\n"
     ]
    }
   ],
   "source": [
    "print(df['stemmed_content'])"
   ]
  },
  {
   "cell_type": "code",
   "execution_count": 157,
   "id": "d9c9b7d7-e729-4b09-a6f8-2f06aa9b55e0",
   "metadata": {},
   "outputs": [],
   "source": [
    "df.replace({'target':{4:1}},inplace=True)"
   ]
  },
  {
   "cell_type": "code",
   "execution_count": 165,
   "id": "c098f25f-74e9-490a-aa7c-c15896b7e0c6",
   "metadata": {},
   "outputs": [],
   "source": [
    "df.replace({'target':{4:1}},inplace=True)"
   ]
  },
  {
   "cell_type": "code",
   "execution_count": 167,
   "id": "290cae1a-caad-407b-a154-baca27830cb1",
   "metadata": {},
   "outputs": [
    {
     "data": {
      "text/plain": [
       "541200     0\n",
       "750        0\n",
       "766711     0\n",
       "285055     0\n",
       "705995     0\n",
       "          ..\n",
       "965972     1\n",
       "1193436    1\n",
       "896390     1\n",
       "544127     0\n",
       "117202     0\n",
       "Name: target, Length: 10000, dtype: int64"
      ]
     },
     "execution_count": 167,
     "metadata": {},
     "output_type": "execute_result"
    }
   ],
   "source": [
    "df['target']"
   ]
  },
  {
   "cell_type": "code",
   "execution_count": 169,
   "id": "a50b79f1-7b6e-42bb-ad6a-e42c51350505",
   "metadata": {},
   "outputs": [],
   "source": [
    "X=df['stemmed_content'].values\n",
    "Y=df['target'].values"
   ]
  },
  {
   "cell_type": "code",
   "execution_count": 171,
   "id": "750a1f96-8faf-431c-a361-7800acbd94dd",
   "metadata": {},
   "outputs": [
    {
     "data": {
      "text/plain": [
       "array(['chrishasboob ahhh hope ok', 'misstoriblack cool tweet app razr',\n",
       "       'tiannachao know famili drama lame hey next time u hang kim n u guy like sleepov whatev ill call u',\n",
       "       ..., 'rebekahmaylen serious gal make nervou parti thank come',\n",
       "       'sarahmascara thank want chicken cheesecak togeath though',\n",
       "       'kutefan sadli probabl true tri trident competit get beyonc ticket last chanc'],\n",
       "      dtype=object)"
      ]
     },
     "execution_count": 171,
     "metadata": {},
     "output_type": "execute_result"
    }
   ],
   "source": [
    "X"
   ]
  },
  {
   "cell_type": "code",
   "execution_count": 173,
   "id": "8fbce288-73e4-4383-801d-b77bfccdece4",
   "metadata": {},
   "outputs": [
    {
     "data": {
      "text/plain": [
       "array([0, 0, 0, ..., 1, 0, 0], dtype=int64)"
      ]
     },
     "execution_count": 173,
     "metadata": {},
     "output_type": "execute_result"
    }
   ],
   "source": [
    "Y"
   ]
  },
  {
   "cell_type": "markdown",
   "id": "4bfb621a-5380-42fc-a9d6-8a7d11d39356",
   "metadata": {},
   "source": [
    "splitting the data to training and testing"
   ]
  },
  {
   "cell_type": "code",
   "execution_count": 182,
   "id": "4d1f8b8a-21fd-43dd-8d9e-7546bc13b345",
   "metadata": {},
   "outputs": [],
   "source": [
    "X_train,X_test,Y_train,Y_test=train_test_split(X,Y,test_size=0.2,stratify=Y,random_state=2)\n"
   ]
  },
  {
   "cell_type": "code",
   "execution_count": 186,
   "id": "52d61ac4-1ef1-48b3-98ae-934ebf739843",
   "metadata": {},
   "outputs": [
    {
     "data": {
      "text/plain": [
       "((10000,), (8000,), (2000,))"
      ]
     },
     "execution_count": 186,
     "metadata": {},
     "output_type": "execute_result"
    }
   ],
   "source": [
    "X.shape,X_train.shape,X_test.shape"
   ]
  },
  {
   "cell_type": "code",
   "execution_count": 188,
   "id": "1d043ac6-7474-439c-b45f-a724f6ddd7a1",
   "metadata": {},
   "outputs": [
    {
     "data": {
      "text/plain": [
       "array(['misschrii know celebr yet lol excit', 'mani mask festiv',\n",
       "       'g mornin everyon feelin bit better morn', ...,\n",
       "       'jerquiaga keep breath',\n",
       "       'emeraldangeluk uk terrtenti downpour oh joy',\n",
       "       'tracecyru http twitpic com ea still sweeter'], dtype=object)"
      ]
     },
     "execution_count": 188,
     "metadata": {},
     "output_type": "execute_result"
    }
   ],
   "source": [
    "X_train"
   ]
  },
  {
   "cell_type": "code",
   "execution_count": 190,
   "id": "df187366-9530-4b9a-b14d-5656e0a55301",
   "metadata": {},
   "outputs": [
    {
     "data": {
      "text/plain": [
       "array(['love sunni day fife today shame work',\n",
       "       'punch lever thing fall back onto sensor measur strength punch could never beat hayami',\n",
       "       'cougar privaci threaten surveil increas http bit ly ayvio sorri help one',\n",
       "       ..., 'sunbath min got slight tan',\n",
       "       'lydia shoe die pl buy wholesal amp sell pl',\n",
       "       'cbryant fun ps come work today feel good'], dtype=object)"
      ]
     },
     "execution_count": 190,
     "metadata": {},
     "output_type": "execute_result"
    }
   ],
   "source": [
    "X_test"
   ]
  },
  {
   "cell_type": "markdown",
   "id": "ecef5f24-51a4-4ca9-aba1-7c6e41d1b477",
   "metadata": {},
   "source": [
    "feature exstaection:conver into numerical data"
   ]
  },
  {
   "cell_type": "code",
   "execution_count": 193,
   "id": "391b18c0-951e-431a-aad8-5514da2eb04d",
   "metadata": {},
   "outputs": [],
   "source": [
    "vectorizer=TfidfVectorizer()\n",
    "X_train=vectorizer.fit_transform(X_train)\n",
    "X_test=vectorizer.transform(X_test)"
   ]
  },
  {
   "cell_type": "code",
   "execution_count": 199,
   "id": "35452e8d-b511-4d69-acb5-e8b397e37aab",
   "metadata": {},
   "outputs": [
    {
     "name": "stdout",
     "output_type": "stream",
     "text": [
      "  (0, 7331)\t0.5916508020509927\n",
      "  (0, 6168)\t0.2773022990902709\n",
      "  (0, 1822)\t0.4633856214057859\n",
      "  (0, 12916)\t0.3751365618512371\n",
      "  (0, 6616)\t0.27121428180106566\n",
      "  (0, 3647)\t0.37952852664273556\n",
      "  (1, 6905)\t0.47585786742353875\n",
      "  (1, 6992)\t0.6518317893766844\n",
      "  (1, 3831)\t0.5904867554561334\n",
      "  (2, 7496)\t0.5129503755227347\n",
      "  (2, 3602)\t0.3637661796381721\n",
      "  (2, 3802)\t0.5129503755227347\n",
      "  (2, 1131)\t0.3470815238201998\n",
      "  (2, 1058)\t0.3439853717478702\n",
      "  (2, 7493)\t0.3203848793244581\n",
      "  (3, 6244)\t0.5353448242392916\n",
      "  (3, 4424)\t0.23107602705364994\n",
      "  (3, 7328)\t0.2600287058613802\n",
      "  (3, 1669)\t0.4518517694737355\n",
      "  (3, 3363)\t0.4008211307839131\n",
      "  (3, 4164)\t0.3060790285711704\n",
      "  (3, 6063)\t0.3659001077054318\n",
      "  (4, 12381)\t0.2239160056599462\n",
      "  (4, 3868)\t0.2633818384633619\n",
      "  (4, 3510)\t0.3595958537195327\n",
      "  :\t:\n",
      "  (7996, 10172)\t0.20363338735328024\n",
      "  (7996, 8575)\t0.21787494160104504\n",
      "  (7996, 11867)\t0.1861924473787723\n",
      "  (7996, 3769)\t0.2656241425377662\n",
      "  (7996, 5195)\t0.243572408299798\n",
      "  (7996, 9265)\t0.2755549519655172\n",
      "  (7996, 12421)\t0.29232210761299093\n",
      "  (7996, 91)\t0.2692952068125623\n",
      "  (7996, 11832)\t0.715967854144546\n",
      "  (7997, 5994)\t0.42385020862493744\n",
      "  (7997, 1416)\t0.5771538587422472\n",
      "  (7997, 5643)\t0.6980289564104996\n",
      "  (7998, 8088)\t0.24188728864633924\n",
      "  (7998, 11952)\t0.3360758898481555\n",
      "  (7998, 5817)\t0.3921357329880544\n",
      "  (7998, 3419)\t0.47426191876360696\n",
      "  (7998, 11241)\t0.47426191876360696\n",
      "  (7998, 3128)\t0.47426191876360696\n",
      "  (7999, 5091)\t0.2301023159014767\n",
      "  (7999, 10775)\t0.2500650309926662\n",
      "  (7999, 2209)\t0.2425793108794849\n",
      "  (7999, 11862)\t0.2932410959438469\n",
      "  (7999, 11650)\t0.4622717287686372\n",
      "  (7999, 3268)\t0.5128304743555882\n",
      "  (7999, 11012)\t0.5128304743555882\n"
     ]
    }
   ],
   "source": [
    "print(X_train)"
   ]
  },
  {
   "cell_type": "code",
   "execution_count": 201,
   "id": "f733384d-1eae-4ac0-af6c-c812bb37031f",
   "metadata": {},
   "outputs": [
    {
     "name": "stdout",
     "output_type": "stream",
     "text": [
      "  (0, 2693)\t0.29640902512278094\n",
      "  (0, 6701)\t0.31390849940491755\n",
      "  (0, 10040)\t0.585667582875739\n",
      "  (0, 10926)\t0.5223632296388445\n",
      "  (0, 11549)\t0.3255427938970638\n",
      "  (0, 12699)\t0.30291116166060084\n",
      "  (1, 797)\t0.15284493747909167\n",
      "  (1, 945)\t0.24104400286965785\n",
      "  (1, 2368)\t0.1818895317421265\n",
      "  (1, 3718)\t0.23030901333452736\n",
      "  (1, 7092)\t0.31809489233900745\n",
      "  (1, 7810)\t0.1901724396344942\n",
      "  (1, 8155)\t0.27521884176369826\n",
      "  (1, 9006)\t0.6361897846780149\n",
      "  (1, 9964)\t0.31809489233900745\n",
      "  (1, 10830)\t0.28673466797931957\n",
      "  (1, 11369)\t0.1765680314060424\n",
      "  (2, 1131)\t0.2586500316622715\n",
      "  (2, 2366)\t0.4681211456080206\n",
      "  (2, 4863)\t0.2829563353672412\n",
      "  (2, 5091)\t0.21004165140968126\n",
      "  (2, 5298)\t0.44769902116759536\n",
      "  (2, 6776)\t0.2976590325164716\n",
      "  (2, 8141)\t0.22143088328048627\n",
      "  (2, 10515)\t0.2530686271617773\n",
      "  :\t:\n",
      "  (1995, 6492)\t0.20885616141714633\n",
      "  (1995, 11478)\t0.21975289652429147\n",
      "  (1995, 12348)\t0.28771670554948087\n",
      "  (1996, 8575)\t0.5558316180201116\n",
      "  (1996, 9994)\t0.6822181654159876\n",
      "  (1996, 11867)\t0.4750048285918673\n",
      "  (1997, 4455)\t0.2511808838014459\n",
      "  (1997, 7287)\t0.4093380365966657\n",
      "  (1997, 10343)\t0.5204091121277475\n",
      "  (1997, 10917)\t0.5441479615451233\n",
      "  (1997, 11105)\t0.4499198677193615\n",
      "  (1998, 388)\t0.20014425446489711\n",
      "  (1998, 1603)\t0.27983457756916263\n",
      "  (1998, 2910)\t0.26461420639802774\n",
      "  (1998, 6777)\t0.4061385840717441\n",
      "  (1998, 8671)\t0.6486884438369606\n",
      "  (1998, 9951)\t0.3404131282428054\n",
      "  (1998, 10146)\t0.33164418260275474\n",
      "  (1999, 2212)\t0.3582440328125553\n",
      "  (1999, 3801)\t0.33974508316417823\n",
      "  (1999, 4164)\t0.3886862625727328\n",
      "  (1999, 4424)\t0.2934408075748142\n",
      "  (1999, 8979)\t0.5738014013357488\n",
      "  (1999, 11549)\t0.3189469876677855\n",
      "  (1999, 12699)\t0.29677389379765234\n"
     ]
    }
   ],
   "source": [
    "print(X_test)"
   ]
  },
  {
   "cell_type": "markdown",
   "id": "d7400b40-f923-4efd-9558-f63b48f17fd1",
   "metadata": {},
   "source": [
    "trainig logistic ml model"
   ]
  },
  {
   "cell_type": "code",
   "execution_count": 208,
   "id": "d3ca10a9-2992-48ae-a509-7029c9981f6a",
   "metadata": {},
   "outputs": [
    {
     "data": {
      "text/html": [
       "<style>#sk-container-id-1 {\n",
       "  /* Definition of color scheme common for light and dark mode */\n",
       "  --sklearn-color-text: black;\n",
       "  --sklearn-color-line: gray;\n",
       "  /* Definition of color scheme for unfitted estimators */\n",
       "  --sklearn-color-unfitted-level-0: #fff5e6;\n",
       "  --sklearn-color-unfitted-level-1: #f6e4d2;\n",
       "  --sklearn-color-unfitted-level-2: #ffe0b3;\n",
       "  --sklearn-color-unfitted-level-3: chocolate;\n",
       "  /* Definition of color scheme for fitted estimators */\n",
       "  --sklearn-color-fitted-level-0: #f0f8ff;\n",
       "  --sklearn-color-fitted-level-1: #d4ebff;\n",
       "  --sklearn-color-fitted-level-2: #b3dbfd;\n",
       "  --sklearn-color-fitted-level-3: cornflowerblue;\n",
       "\n",
       "  /* Specific color for light theme */\n",
       "  --sklearn-color-text-on-default-background: var(--sg-text-color, var(--theme-code-foreground, var(--jp-content-font-color1, black)));\n",
       "  --sklearn-color-background: var(--sg-background-color, var(--theme-background, var(--jp-layout-color0, white)));\n",
       "  --sklearn-color-border-box: var(--sg-text-color, var(--theme-code-foreground, var(--jp-content-font-color1, black)));\n",
       "  --sklearn-color-icon: #696969;\n",
       "\n",
       "  @media (prefers-color-scheme: dark) {\n",
       "    /* Redefinition of color scheme for dark theme */\n",
       "    --sklearn-color-text-on-default-background: var(--sg-text-color, var(--theme-code-foreground, var(--jp-content-font-color1, white)));\n",
       "    --sklearn-color-background: var(--sg-background-color, var(--theme-background, var(--jp-layout-color0, #111)));\n",
       "    --sklearn-color-border-box: var(--sg-text-color, var(--theme-code-foreground, var(--jp-content-font-color1, white)));\n",
       "    --sklearn-color-icon: #878787;\n",
       "  }\n",
       "}\n",
       "\n",
       "#sk-container-id-1 {\n",
       "  color: var(--sklearn-color-text);\n",
       "}\n",
       "\n",
       "#sk-container-id-1 pre {\n",
       "  padding: 0;\n",
       "}\n",
       "\n",
       "#sk-container-id-1 input.sk-hidden--visually {\n",
       "  border: 0;\n",
       "  clip: rect(1px 1px 1px 1px);\n",
       "  clip: rect(1px, 1px, 1px, 1px);\n",
       "  height: 1px;\n",
       "  margin: -1px;\n",
       "  overflow: hidden;\n",
       "  padding: 0;\n",
       "  position: absolute;\n",
       "  width: 1px;\n",
       "}\n",
       "\n",
       "#sk-container-id-1 div.sk-dashed-wrapped {\n",
       "  border: 1px dashed var(--sklearn-color-line);\n",
       "  margin: 0 0.4em 0.5em 0.4em;\n",
       "  box-sizing: border-box;\n",
       "  padding-bottom: 0.4em;\n",
       "  background-color: var(--sklearn-color-background);\n",
       "}\n",
       "\n",
       "#sk-container-id-1 div.sk-container {\n",
       "  /* jupyter's `normalize.less` sets `[hidden] { display: none; }`\n",
       "     but bootstrap.min.css set `[hidden] { display: none !important; }`\n",
       "     so we also need the `!important` here to be able to override the\n",
       "     default hidden behavior on the sphinx rendered scikit-learn.org.\n",
       "     See: https://github.com/scikit-learn/scikit-learn/issues/21755 */\n",
       "  display: inline-block !important;\n",
       "  position: relative;\n",
       "}\n",
       "\n",
       "#sk-container-id-1 div.sk-text-repr-fallback {\n",
       "  display: none;\n",
       "}\n",
       "\n",
       "div.sk-parallel-item,\n",
       "div.sk-serial,\n",
       "div.sk-item {\n",
       "  /* draw centered vertical line to link estimators */\n",
       "  background-image: linear-gradient(var(--sklearn-color-text-on-default-background), var(--sklearn-color-text-on-default-background));\n",
       "  background-size: 2px 100%;\n",
       "  background-repeat: no-repeat;\n",
       "  background-position: center center;\n",
       "}\n",
       "\n",
       "/* Parallel-specific style estimator block */\n",
       "\n",
       "#sk-container-id-1 div.sk-parallel-item::after {\n",
       "  content: \"\";\n",
       "  width: 100%;\n",
       "  border-bottom: 2px solid var(--sklearn-color-text-on-default-background);\n",
       "  flex-grow: 1;\n",
       "}\n",
       "\n",
       "#sk-container-id-1 div.sk-parallel {\n",
       "  display: flex;\n",
       "  align-items: stretch;\n",
       "  justify-content: center;\n",
       "  background-color: var(--sklearn-color-background);\n",
       "  position: relative;\n",
       "}\n",
       "\n",
       "#sk-container-id-1 div.sk-parallel-item {\n",
       "  display: flex;\n",
       "  flex-direction: column;\n",
       "}\n",
       "\n",
       "#sk-container-id-1 div.sk-parallel-item:first-child::after {\n",
       "  align-self: flex-end;\n",
       "  width: 50%;\n",
       "}\n",
       "\n",
       "#sk-container-id-1 div.sk-parallel-item:last-child::after {\n",
       "  align-self: flex-start;\n",
       "  width: 50%;\n",
       "}\n",
       "\n",
       "#sk-container-id-1 div.sk-parallel-item:only-child::after {\n",
       "  width: 0;\n",
       "}\n",
       "\n",
       "/* Serial-specific style estimator block */\n",
       "\n",
       "#sk-container-id-1 div.sk-serial {\n",
       "  display: flex;\n",
       "  flex-direction: column;\n",
       "  align-items: center;\n",
       "  background-color: var(--sklearn-color-background);\n",
       "  padding-right: 1em;\n",
       "  padding-left: 1em;\n",
       "}\n",
       "\n",
       "\n",
       "/* Toggleable style: style used for estimator/Pipeline/ColumnTransformer box that is\n",
       "clickable and can be expanded/collapsed.\n",
       "- Pipeline and ColumnTransformer use this feature and define the default style\n",
       "- Estimators will overwrite some part of the style using the `sk-estimator` class\n",
       "*/\n",
       "\n",
       "/* Pipeline and ColumnTransformer style (default) */\n",
       "\n",
       "#sk-container-id-1 div.sk-toggleable {\n",
       "  /* Default theme specific background. It is overwritten whether we have a\n",
       "  specific estimator or a Pipeline/ColumnTransformer */\n",
       "  background-color: var(--sklearn-color-background);\n",
       "}\n",
       "\n",
       "/* Toggleable label */\n",
       "#sk-container-id-1 label.sk-toggleable__label {\n",
       "  cursor: pointer;\n",
       "  display: block;\n",
       "  width: 100%;\n",
       "  margin-bottom: 0;\n",
       "  padding: 0.5em;\n",
       "  box-sizing: border-box;\n",
       "  text-align: center;\n",
       "}\n",
       "\n",
       "#sk-container-id-1 label.sk-toggleable__label-arrow:before {\n",
       "  /* Arrow on the left of the label */\n",
       "  content: \"▸\";\n",
       "  float: left;\n",
       "  margin-right: 0.25em;\n",
       "  color: var(--sklearn-color-icon);\n",
       "}\n",
       "\n",
       "#sk-container-id-1 label.sk-toggleable__label-arrow:hover:before {\n",
       "  color: var(--sklearn-color-text);\n",
       "}\n",
       "\n",
       "/* Toggleable content - dropdown */\n",
       "\n",
       "#sk-container-id-1 div.sk-toggleable__content {\n",
       "  max-height: 0;\n",
       "  max-width: 0;\n",
       "  overflow: hidden;\n",
       "  text-align: left;\n",
       "  /* unfitted */\n",
       "  background-color: var(--sklearn-color-unfitted-level-0);\n",
       "}\n",
       "\n",
       "#sk-container-id-1 div.sk-toggleable__content.fitted {\n",
       "  /* fitted */\n",
       "  background-color: var(--sklearn-color-fitted-level-0);\n",
       "}\n",
       "\n",
       "#sk-container-id-1 div.sk-toggleable__content pre {\n",
       "  margin: 0.2em;\n",
       "  border-radius: 0.25em;\n",
       "  color: var(--sklearn-color-text);\n",
       "  /* unfitted */\n",
       "  background-color: var(--sklearn-color-unfitted-level-0);\n",
       "}\n",
       "\n",
       "#sk-container-id-1 div.sk-toggleable__content.fitted pre {\n",
       "  /* unfitted */\n",
       "  background-color: var(--sklearn-color-fitted-level-0);\n",
       "}\n",
       "\n",
       "#sk-container-id-1 input.sk-toggleable__control:checked~div.sk-toggleable__content {\n",
       "  /* Expand drop-down */\n",
       "  max-height: 200px;\n",
       "  max-width: 100%;\n",
       "  overflow: auto;\n",
       "}\n",
       "\n",
       "#sk-container-id-1 input.sk-toggleable__control:checked~label.sk-toggleable__label-arrow:before {\n",
       "  content: \"▾\";\n",
       "}\n",
       "\n",
       "/* Pipeline/ColumnTransformer-specific style */\n",
       "\n",
       "#sk-container-id-1 div.sk-label input.sk-toggleable__control:checked~label.sk-toggleable__label {\n",
       "  color: var(--sklearn-color-text);\n",
       "  background-color: var(--sklearn-color-unfitted-level-2);\n",
       "}\n",
       "\n",
       "#sk-container-id-1 div.sk-label.fitted input.sk-toggleable__control:checked~label.sk-toggleable__label {\n",
       "  background-color: var(--sklearn-color-fitted-level-2);\n",
       "}\n",
       "\n",
       "/* Estimator-specific style */\n",
       "\n",
       "/* Colorize estimator box */\n",
       "#sk-container-id-1 div.sk-estimator input.sk-toggleable__control:checked~label.sk-toggleable__label {\n",
       "  /* unfitted */\n",
       "  background-color: var(--sklearn-color-unfitted-level-2);\n",
       "}\n",
       "\n",
       "#sk-container-id-1 div.sk-estimator.fitted input.sk-toggleable__control:checked~label.sk-toggleable__label {\n",
       "  /* fitted */\n",
       "  background-color: var(--sklearn-color-fitted-level-2);\n",
       "}\n",
       "\n",
       "#sk-container-id-1 div.sk-label label.sk-toggleable__label,\n",
       "#sk-container-id-1 div.sk-label label {\n",
       "  /* The background is the default theme color */\n",
       "  color: var(--sklearn-color-text-on-default-background);\n",
       "}\n",
       "\n",
       "/* On hover, darken the color of the background */\n",
       "#sk-container-id-1 div.sk-label:hover label.sk-toggleable__label {\n",
       "  color: var(--sklearn-color-text);\n",
       "  background-color: var(--sklearn-color-unfitted-level-2);\n",
       "}\n",
       "\n",
       "/* Label box, darken color on hover, fitted */\n",
       "#sk-container-id-1 div.sk-label.fitted:hover label.sk-toggleable__label.fitted {\n",
       "  color: var(--sklearn-color-text);\n",
       "  background-color: var(--sklearn-color-fitted-level-2);\n",
       "}\n",
       "\n",
       "/* Estimator label */\n",
       "\n",
       "#sk-container-id-1 div.sk-label label {\n",
       "  font-family: monospace;\n",
       "  font-weight: bold;\n",
       "  display: inline-block;\n",
       "  line-height: 1.2em;\n",
       "}\n",
       "\n",
       "#sk-container-id-1 div.sk-label-container {\n",
       "  text-align: center;\n",
       "}\n",
       "\n",
       "/* Estimator-specific */\n",
       "#sk-container-id-1 div.sk-estimator {\n",
       "  font-family: monospace;\n",
       "  border: 1px dotted var(--sklearn-color-border-box);\n",
       "  border-radius: 0.25em;\n",
       "  box-sizing: border-box;\n",
       "  margin-bottom: 0.5em;\n",
       "  /* unfitted */\n",
       "  background-color: var(--sklearn-color-unfitted-level-0);\n",
       "}\n",
       "\n",
       "#sk-container-id-1 div.sk-estimator.fitted {\n",
       "  /* fitted */\n",
       "  background-color: var(--sklearn-color-fitted-level-0);\n",
       "}\n",
       "\n",
       "/* on hover */\n",
       "#sk-container-id-1 div.sk-estimator:hover {\n",
       "  /* unfitted */\n",
       "  background-color: var(--sklearn-color-unfitted-level-2);\n",
       "}\n",
       "\n",
       "#sk-container-id-1 div.sk-estimator.fitted:hover {\n",
       "  /* fitted */\n",
       "  background-color: var(--sklearn-color-fitted-level-2);\n",
       "}\n",
       "\n",
       "/* Specification for estimator info (e.g. \"i\" and \"?\") */\n",
       "\n",
       "/* Common style for \"i\" and \"?\" */\n",
       "\n",
       ".sk-estimator-doc-link,\n",
       "a:link.sk-estimator-doc-link,\n",
       "a:visited.sk-estimator-doc-link {\n",
       "  float: right;\n",
       "  font-size: smaller;\n",
       "  line-height: 1em;\n",
       "  font-family: monospace;\n",
       "  background-color: var(--sklearn-color-background);\n",
       "  border-radius: 1em;\n",
       "  height: 1em;\n",
       "  width: 1em;\n",
       "  text-decoration: none !important;\n",
       "  margin-left: 1ex;\n",
       "  /* unfitted */\n",
       "  border: var(--sklearn-color-unfitted-level-1) 1pt solid;\n",
       "  color: var(--sklearn-color-unfitted-level-1);\n",
       "}\n",
       "\n",
       ".sk-estimator-doc-link.fitted,\n",
       "a:link.sk-estimator-doc-link.fitted,\n",
       "a:visited.sk-estimator-doc-link.fitted {\n",
       "  /* fitted */\n",
       "  border: var(--sklearn-color-fitted-level-1) 1pt solid;\n",
       "  color: var(--sklearn-color-fitted-level-1);\n",
       "}\n",
       "\n",
       "/* On hover */\n",
       "div.sk-estimator:hover .sk-estimator-doc-link:hover,\n",
       ".sk-estimator-doc-link:hover,\n",
       "div.sk-label-container:hover .sk-estimator-doc-link:hover,\n",
       ".sk-estimator-doc-link:hover {\n",
       "  /* unfitted */\n",
       "  background-color: var(--sklearn-color-unfitted-level-3);\n",
       "  color: var(--sklearn-color-background);\n",
       "  text-decoration: none;\n",
       "}\n",
       "\n",
       "div.sk-estimator.fitted:hover .sk-estimator-doc-link.fitted:hover,\n",
       ".sk-estimator-doc-link.fitted:hover,\n",
       "div.sk-label-container:hover .sk-estimator-doc-link.fitted:hover,\n",
       ".sk-estimator-doc-link.fitted:hover {\n",
       "  /* fitted */\n",
       "  background-color: var(--sklearn-color-fitted-level-3);\n",
       "  color: var(--sklearn-color-background);\n",
       "  text-decoration: none;\n",
       "}\n",
       "\n",
       "/* Span, style for the box shown on hovering the info icon */\n",
       ".sk-estimator-doc-link span {\n",
       "  display: none;\n",
       "  z-index: 9999;\n",
       "  position: relative;\n",
       "  font-weight: normal;\n",
       "  right: .2ex;\n",
       "  padding: .5ex;\n",
       "  margin: .5ex;\n",
       "  width: min-content;\n",
       "  min-width: 20ex;\n",
       "  max-width: 50ex;\n",
       "  color: var(--sklearn-color-text);\n",
       "  box-shadow: 2pt 2pt 4pt #999;\n",
       "  /* unfitted */\n",
       "  background: var(--sklearn-color-unfitted-level-0);\n",
       "  border: .5pt solid var(--sklearn-color-unfitted-level-3);\n",
       "}\n",
       "\n",
       ".sk-estimator-doc-link.fitted span {\n",
       "  /* fitted */\n",
       "  background: var(--sklearn-color-fitted-level-0);\n",
       "  border: var(--sklearn-color-fitted-level-3);\n",
       "}\n",
       "\n",
       ".sk-estimator-doc-link:hover span {\n",
       "  display: block;\n",
       "}\n",
       "\n",
       "/* \"?\"-specific style due to the `<a>` HTML tag */\n",
       "\n",
       "#sk-container-id-1 a.estimator_doc_link {\n",
       "  float: right;\n",
       "  font-size: 1rem;\n",
       "  line-height: 1em;\n",
       "  font-family: monospace;\n",
       "  background-color: var(--sklearn-color-background);\n",
       "  border-radius: 1rem;\n",
       "  height: 1rem;\n",
       "  width: 1rem;\n",
       "  text-decoration: none;\n",
       "  /* unfitted */\n",
       "  color: var(--sklearn-color-unfitted-level-1);\n",
       "  border: var(--sklearn-color-unfitted-level-1) 1pt solid;\n",
       "}\n",
       "\n",
       "#sk-container-id-1 a.estimator_doc_link.fitted {\n",
       "  /* fitted */\n",
       "  border: var(--sklearn-color-fitted-level-1) 1pt solid;\n",
       "  color: var(--sklearn-color-fitted-level-1);\n",
       "}\n",
       "\n",
       "/* On hover */\n",
       "#sk-container-id-1 a.estimator_doc_link:hover {\n",
       "  /* unfitted */\n",
       "  background-color: var(--sklearn-color-unfitted-level-3);\n",
       "  color: var(--sklearn-color-background);\n",
       "  text-decoration: none;\n",
       "}\n",
       "\n",
       "#sk-container-id-1 a.estimator_doc_link.fitted:hover {\n",
       "  /* fitted */\n",
       "  background-color: var(--sklearn-color-fitted-level-3);\n",
       "}\n",
       "</style><div id=\"sk-container-id-1\" class=\"sk-top-container\"><div class=\"sk-text-repr-fallback\"><pre>LogisticRegression(max_iter=1000)</pre><b>In a Jupyter environment, please rerun this cell to show the HTML representation or trust the notebook. <br />On GitHub, the HTML representation is unable to render, please try loading this page with nbviewer.org.</b></div><div class=\"sk-container\" hidden><div class=\"sk-item\"><div class=\"sk-estimator fitted sk-toggleable\"><input class=\"sk-toggleable__control sk-hidden--visually\" id=\"sk-estimator-id-1\" type=\"checkbox\" checked><label for=\"sk-estimator-id-1\" class=\"sk-toggleable__label fitted sk-toggleable__label-arrow fitted\">&nbsp;&nbsp;LogisticRegression<a class=\"sk-estimator-doc-link fitted\" rel=\"noreferrer\" target=\"_blank\" href=\"https://scikit-learn.org/1.5/modules/generated/sklearn.linear_model.LogisticRegression.html\">?<span>Documentation for LogisticRegression</span></a><span class=\"sk-estimator-doc-link fitted\">i<span>Fitted</span></span></label><div class=\"sk-toggleable__content fitted\"><pre>LogisticRegression(max_iter=1000)</pre></div> </div></div></div></div>"
      ],
      "text/plain": [
       "LogisticRegression(max_iter=1000)"
      ]
     },
     "execution_count": 208,
     "metadata": {},
     "output_type": "execute_result"
    }
   ],
   "source": [
    "from sklearn.linear_model import LogisticRegression\n",
    "model=LogisticRegression(max_iter=1000)\n",
    "model.fit(X_train,Y_train)\n"
   ]
  },
  {
   "cell_type": "markdown",
   "id": "0679d44d-481d-44c3-b49c-f4d30ae760aa",
   "metadata": {},
   "source": [
    "model evalutioin "
   ]
  },
  {
   "cell_type": "code",
   "execution_count": 219,
   "id": "0039dacd-6186-4d3a-b402-e24d1c567ec8",
   "metadata": {},
   "outputs": [
    {
     "name": "stdout",
     "output_type": "stream",
     "text": [
      "Training Data Accuracy: 0.87275\n"
     ]
    }
   ],
   "source": [
    "from sklearn.metrics import accuracy_score\n",
    "\n",
    "# Predicting the labels for the training data\n",
    "x_train_prediction = model.predict(X_train)\n",
    "\n",
    "# Calculating the accuracy of the model on the training data\n",
    "training_data_accuracy = accuracy_score(Y_train, x_train_prediction)\n",
    "\n",
    "# Print the accuracy\n",
    "print(f'Training Data Accuracy: {training_data_accuracy}')\n"
   ]
  },
  {
   "cell_type": "markdown",
   "id": "c12e7a87-e00c-45e7-ba47-41e916761819",
   "metadata": {},
   "source": [
    "accuracy score on test data"
   ]
  },
  {
   "cell_type": "code",
   "execution_count": 224,
   "id": "e2e68573-51e1-4c0f-ab37-02bada1bb425",
   "metadata": {},
   "outputs": [
    {
     "name": "stdout",
     "output_type": "stream",
     "text": [
      "0.732\n"
     ]
    }
   ],
   "source": [
    "X_test_prediction=model.predict(X_test)\n",
    "test_data_accuracy=accuracy_score(Y_test,X_test_prediction)\n",
    "print(test_data_accuracy)"
   ]
  },
  {
   "cell_type": "code",
   "execution_count": 226,
   "id": "a2495498-13d6-4683-ac26-8dc0d0d6f751",
   "metadata": {},
   "outputs": [],
   "source": [
    " import pickle"
   ]
  },
  {
   "cell_type": "code",
   "execution_count": 228,
   "id": "9e10038b-db95-40ce-9748-897c90e3a09f",
   "metadata": {},
   "outputs": [],
   "source": [
    "filename='trained_model.sav'\n",
    "pickle.dump(model,open(filename,'wb'))"
   ]
  },
  {
   "cell_type": "code",
   "execution_count": 230,
   "id": "42b1f7a2-30fb-4b46-91bf-6bcdf5503f9d",
   "metadata": {},
   "outputs": [],
   "source": [
    "loaded_model=pickle.load(open('trained_model.sav','rb'))"
   ]
  },
  {
   "cell_type": "code",
   "execution_count": 236,
   "id": "36d7ed3e-79a6-4e09-a54a-bc7ec65379be",
   "metadata": {},
   "outputs": [
    {
     "name": "stdout",
     "output_type": "stream",
     "text": [
      "1\n",
      "[1]\n",
      "Postive tweet\n"
     ]
    }
   ],
   "source": [
    "X_new=X_test[200]\n",
    "print(Y_test[200])\n",
    "prediction=model.predict(X_new)\n",
    "print(prediction)\n",
    "if (prediction[0]==0):\n",
    "    print(\"negative Tweet\")\n",
    "\n",
    "else:\n",
    "    print(\"Postive tweet\")\n",
    "    "
   ]
  },
  {
   "cell_type": "code",
   "execution_count": 240,
   "id": "c15f95f0-f688-4bf7-946b-abe94548d6d7",
   "metadata": {},
   "outputs": [
    {
     "name": "stdout",
     "output_type": "stream",
     "text": [
      "0\n",
      "[0]\n",
      "negative Tweet\n"
     ]
    }
   ],
   "source": [
    "X_new=X_test[13]\n",
    "print(Y_test[13])\n",
    "prediction=model.predict(X_new)\n",
    "print(prediction)\n",
    "if (prediction[0]==0):\n",
    "    print(\"negative Tweet\")\n",
    "\n",
    "else:\n",
    "    print(\"Postive tweet\")"
   ]
  },
  {
   "cell_type": "code",
   "execution_count": null,
   "id": "fc931dd7-691f-4b8e-afec-7fcc91b360d4",
   "metadata": {},
   "outputs": [],
   "source": []
  }
 ],
 "metadata": {
  "kernelspec": {
   "display_name": "Python 3 (ipykernel)",
   "language": "python",
   "name": "python3"
  },
  "language_info": {
   "codemirror_mode": {
    "name": "ipython",
    "version": 3
   },
   "file_extension": ".py",
   "mimetype": "text/x-python",
   "name": "python",
   "nbconvert_exporter": "python",
   "pygments_lexer": "ipython3",
   "version": "3.12.7"
  }
 },
 "nbformat": 4,
 "nbformat_minor": 5
}
